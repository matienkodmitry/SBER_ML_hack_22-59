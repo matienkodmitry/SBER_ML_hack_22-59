{
 "cells": [
  {
   "cell_type": "code",
   "execution_count": 8,
   "id": "027bca39",
   "metadata": {},
   "outputs": [],
   "source": [
    "import pandas as pd\n",
    "import numpy as np"
   ]
  },
  {
   "cell_type": "code",
   "execution_count": 37,
   "id": "3858914b",
   "metadata": {},
   "outputs": [],
   "source": [
    "df = pd.read_excel('airbnb.xlsx').reset_index(drop=True)\n",
    "df = df.drop(\"Unnamed: 0\", axis = 1)\n",
    "df[\"test_var\"] = range(0, 20)"
   ]
  },
  {
   "cell_type": "code",
   "execution_count": 38,
   "id": "b17c264b",
   "metadata": {},
   "outputs": [
    {
     "data": {
      "text/html": [
       "<div>\n",
       "<style scoped>\n",
       "    .dataframe tbody tr th:only-of-type {\n",
       "        vertical-align: middle;\n",
       "    }\n",
       "\n",
       "    .dataframe tbody tr th {\n",
       "        vertical-align: top;\n",
       "    }\n",
       "\n",
       "    .dataframe thead th {\n",
       "        text-align: right;\n",
       "    }\n",
       "</style>\n",
       "<table border=\"1\" class=\"dataframe\">\n",
       "  <thead>\n",
       "    <tr style=\"text-align: right;\">\n",
       "      <th></th>\n",
       "      <th>price</th>\n",
       "      <th>check_in</th>\n",
       "      <th>check_out</th>\n",
       "      <th>names</th>\n",
       "      <th>full_names</th>\n",
       "      <th>test_var</th>\n",
       "    </tr>\n",
       "  </thead>\n",
       "  <tbody>\n",
       "    <tr>\n",
       "      <th>0</th>\n",
       "      <td>ﺩ.ﺇ13,183 ﺩ.ﺇ11,379 monthﺩ.ﺇ11,379 per month, ...</td>\n",
       "      <td>2023-11-02</td>\n",
       "      <td>2023-11-30</td>\n",
       "      <td>Apartment in Dubai Marina</td>\n",
       "      <td>1BR Apartment in Dubai Marina</td>\n",
       "      <td>0</td>\n",
       "    </tr>\n",
       "    <tr>\n",
       "      <th>1</th>\n",
       "      <td>ﺩ.ﺇ24,706 ﺩ.ﺇ17,127 monthﺩ.ﺇ17,127 per month, ...</td>\n",
       "      <td>2023-11-02</td>\n",
       "      <td>2023-11-30</td>\n",
       "      <td>Vacation home in Dubai Marina</td>\n",
       "      <td>Waterfront Studio in Dubai Marina</td>\n",
       "      <td>1</td>\n",
       "    </tr>\n",
       "    <tr>\n",
       "      <th>2</th>\n",
       "      <td>ﺩ.ﺇ6,011 monthﺩ.ﺇ6,011 per month</td>\n",
       "      <td>2023-11-02</td>\n",
       "      <td>2023-11-30</td>\n",
       "      <td>Room in Dubai Marina</td>\n",
       "      <td>Waterfront Massive bedroom heart marina</td>\n",
       "      <td>2</td>\n",
       "    </tr>\n",
       "    <tr>\n",
       "      <th>3</th>\n",
       "      <td>ﺩ.ﺇ22,862 monthﺩ.ﺇ22,862 per month</td>\n",
       "      <td>2023-11-02</td>\n",
       "      <td>2023-11-30</td>\n",
       "      <td>Apartment in Dubai</td>\n",
       "      <td>Host &amp; Stay | Emaar Beachfront 1BR- Dubai Marina</td>\n",
       "      <td>3</td>\n",
       "    </tr>\n",
       "    <tr>\n",
       "      <th>4</th>\n",
       "      <td>ﺩ.ﺇ19,594 monthﺩ.ﺇ19,594 per month</td>\n",
       "      <td>2023-11-02</td>\n",
       "      <td>2023-11-30</td>\n",
       "      <td>Apartment in Dubai Marina</td>\n",
       "      <td>Gorgeous Marina View One Bed Apartment (B-05)</td>\n",
       "      <td>4</td>\n",
       "    </tr>\n",
       "  </tbody>\n",
       "</table>\n",
       "</div>"
      ],
      "text/plain": [
       "                                               price    check_in   check_out  \\\n",
       "0  ﺩ.ﺇ13,183 ﺩ.ﺇ11,379 monthﺩ.ﺇ11,379 per month, ...  2023-11-02  2023-11-30   \n",
       "1  ﺩ.ﺇ24,706 ﺩ.ﺇ17,127 monthﺩ.ﺇ17,127 per month, ...  2023-11-02  2023-11-30   \n",
       "2                   ﺩ.ﺇ6,011 monthﺩ.ﺇ6,011 per month  2023-11-02  2023-11-30   \n",
       "3                 ﺩ.ﺇ22,862 monthﺩ.ﺇ22,862 per month  2023-11-02  2023-11-30   \n",
       "4                 ﺩ.ﺇ19,594 monthﺩ.ﺇ19,594 per month  2023-11-02  2023-11-30   \n",
       "\n",
       "                           names  \\\n",
       "0      Apartment in Dubai Marina   \n",
       "1  Vacation home in Dubai Marina   \n",
       "2           Room in Dubai Marina   \n",
       "3             Apartment in Dubai   \n",
       "4      Apartment in Dubai Marina   \n",
       "\n",
       "                                         full_names  test_var  \n",
       "0                     1BR Apartment in Dubai Marina         0  \n",
       "1                 Waterfront Studio in Dubai Marina         1  \n",
       "2           Waterfront Massive bedroom heart marina         2  \n",
       "3  Host & Stay | Emaar Beachfront 1BR- Dubai Marina         3  \n",
       "4     Gorgeous Marina View One Bed Apartment (B-05)         4  "
      ]
     },
     "execution_count": 38,
     "metadata": {},
     "output_type": "execute_result"
    }
   ],
   "source": [
    "df.head()"
   ]
  },
  {
   "cell_type": "code",
   "execution_count": 23,
   "id": "b05dfdb4",
   "metadata": {},
   "outputs": [],
   "source": [
    "def dropna_func(df):\n",
    "    return df.dropna()"
   ]
  },
  {
   "cell_type": "code",
   "execution_count": 33,
   "id": "539d47fe",
   "metadata": {},
   "outputs": [],
   "source": [
    "# df - датафрейм с данными\n",
    "# iter - список названий колонок, по которым группируем\n",
    "# agg - колонка, которую агрегируем\n",
    "# agg_oper - операция агрегация (mean, sum, count, etc...)\n",
    "# sort - опциональный параметр если нужна сортировка (True - по возрастанию, False - по убыванию)\n",
    "def aggregation(df, iter, agg, agg_oper, sort = None):\n",
    "    agg = str(agg)\n",
    "    agg_oper = str(agg_oper)\n",
    "    if sort is not None:\n",
    "        return df.groupby(iter, as_index = False).agg({agg: agg_oper}).sort_values(by = agg, ascending = sort)\n",
    "    else:\n",
    "        return df.groupby(iter, as_index = False).agg({agg: agg_oper})"
   ]
  },
  {
   "cell_type": "code",
   "execution_count": 47,
   "id": "d47d3626",
   "metadata": {},
   "outputs": [],
   "source": [
    "def normalize(col):\n",
    "    col = (col - np.mean(col)) / np.std(col)\n",
    "    return col"
   ]
  },
  {
   "cell_type": "code",
   "execution_count": null,
   "id": "6e7bd84e",
   "metadata": {},
   "outputs": [],
   "source": []
  },
  {
   "cell_type": "code",
   "execution_count": null,
   "id": "994d3e4c",
   "metadata": {},
   "outputs": [],
   "source": []
  }
 ],
 "metadata": {
  "kernelspec": {
   "display_name": "Python 3 (ipykernel)",
   "language": "python",
   "name": "python3"
  },
  "language_info": {
   "codemirror_mode": {
    "name": "ipython",
    "version": 3
   },
   "file_extension": ".py",
   "mimetype": "text/x-python",
   "name": "python",
   "nbconvert_exporter": "python",
   "pygments_lexer": "ipython3",
   "version": "3.10.4"
  }
 },
 "nbformat": 4,
 "nbformat_minor": 5
}
