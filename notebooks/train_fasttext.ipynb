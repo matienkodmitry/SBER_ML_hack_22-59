{
 "cells": [
  {
   "cell_type": "code",
   "execution_count": 11,
   "id": "8a53216c-7c2f-4b0d-9d04-62e370cca1e5",
   "metadata": {},
   "outputs": [],
   "source": [
    "from gensim.models import FastText\n",
    "from gensim.test.utils import common_texts\n",
    "import pandas as pd\n",
    "import numpy as np\n",
    "import os"
   ]
  },
  {
   "cell_type": "code",
   "execution_count": 7,
   "id": "18618927-5922-488d-9fa2-b8bff1e205d6",
   "metadata": {},
   "outputs": [
    {
     "name": "stderr",
     "output_type": "stream",
     "text": [
      "[nltk_data] Downloading package stopwords to\n",
      "[nltk_data]     C:\\Users\\bende\\AppData\\Roaming\\nltk_data...\n",
      "[nltk_data]   Package stopwords is already up-to-date!\n"
     ]
    }
   ],
   "source": [
    "nltk.download('stopwords')\n",
    "from nltk.corpus import stopwords\n",
    "from nltk.stem import SnowballStemmer \n",
    "from nltk.tokenize import RegexpTokenizer\n",
    "\n",
    "stopwords = stopwords.words('russian')\n",
    "stemmer = SnowballStemmer('russian')\n",
    "tokenizer = RegexpTokenizer(r'\\w+')\n",
    "# As this dataset is fetched from twitter so it has lots of people tag in tweets\n",
    "# we will remove them \n",
    "tags = r\"@\\w*\"\n",
    "\n",
    "\n",
    "def preprocess_text(sentence, stem = False):\n",
    "    \n",
    "    sentence = [re.sub(tags, \"\", sentence)]\n",
    "    text = []\n",
    "    for word in sentence:\n",
    "        \n",
    "        if word not in stopwords:\n",
    "            \n",
    "            if stem:\n",
    "                text.append(stemmer.stem(word).lower())\n",
    "            else:\n",
    "                text.append(word.lower())\n",
    "    return tokenizer.tokenize(\" \".join(text))"
   ]
  },
  {
   "cell_type": "code",
   "execution_count": 9,
   "id": "5096d3dc-81b6-429a-9427-48f6d3d0519e",
   "metadata": {},
   "outputs": [],
   "source": [
    "PATH_DATA = r'C:\\Users\\bende\\Projects\\PycharmProjects\\SBER_ML_hack_22-59\\data'\n",
    "MODEL_PATH = r\"C:\\Users\\bende\\Projects\\PycharmProjects\\SBER_ML_hack_22-59\\model\\model.pkl\""
   ]
  },
  {
   "cell_type": "code",
   "execution_count": 12,
   "id": "bdbb76be-cd39-4ac4-b10a-92a9ffe705fd",
   "metadata": {},
   "outputs": [],
   "source": [
    "# Считываем данные\n",
    "tr_mcc_codes = pd.read_csv(os.path.join(PATH_DATA, 'mcc_codes.csv'), sep=';', index_col='mcc_code')\n",
    "tr_types = pd.read_csv(os.path.join(PATH_DATA, 'trans_types.csv'), sep=';', index_col='trans_type')\n",
    "\n",
    "transactions = pd.read_csv(os.path.join(PATH_DATA, 'transactions.csv'), index_col='client_id')\n",
    "gender_train = pd.read_csv(os.path.join(PATH_DATA, 'train.csv'), index_col='client_id')\n",
    "gender_test = pd.read_csv(os.path.join(PATH_DATA, 'test.csv'), index_col='client_id')\n",
    "transactions_train = transactions.join(gender_train, how='inner')\n",
    "transactions_test = transactions.join(gender_test, how='inner')"
   ]
  },
  {
   "cell_type": "code",
   "execution_count": 13,
   "id": "0c41d00d-5f17-43af-85b4-d57339b504c5",
   "metadata": {},
   "outputs": [
    {
     "data": {
      "text/html": [
       "<div>\n",
       "<style scoped>\n",
       "    .dataframe tbody tr th:only-of-type {\n",
       "        vertical-align: middle;\n",
       "    }\n",
       "\n",
       "    .dataframe tbody tr th {\n",
       "        vertical-align: top;\n",
       "    }\n",
       "\n",
       "    .dataframe thead th {\n",
       "        text-align: right;\n",
       "    }\n",
       "</style>\n",
       "<table border=\"1\" class=\"dataframe\">\n",
       "  <thead>\n",
       "    <tr style=\"text-align: right;\">\n",
       "      <th></th>\n",
       "      <th>mcc_description</th>\n",
       "    </tr>\n",
       "    <tr>\n",
       "      <th>mcc_code</th>\n",
       "      <th></th>\n",
       "    </tr>\n",
       "  </thead>\n",
       "  <tbody>\n",
       "    <tr>\n",
       "      <th>742</th>\n",
       "      <td>Ветеринарные услуги</td>\n",
       "    </tr>\n",
       "    <tr>\n",
       "      <th>1711</th>\n",
       "      <td>Генеральные подрядчики по вентиляции, теплосна...</td>\n",
       "    </tr>\n",
       "    <tr>\n",
       "      <th>1731</th>\n",
       "      <td>Подрядчики по электричеству</td>\n",
       "    </tr>\n",
       "    <tr>\n",
       "      <th>1799</th>\n",
       "      <td>Подрядчики, специализированная торговля — нигд...</td>\n",
       "    </tr>\n",
       "    <tr>\n",
       "      <th>2741</th>\n",
       "      <td>Разнообразные издательства/печатное дело</td>\n",
       "    </tr>\n",
       "    <tr>\n",
       "      <th>...</th>\n",
       "      <td>...</td>\n",
       "    </tr>\n",
       "    <tr>\n",
       "      <th>9211</th>\n",
       "      <td>Судовые выплаты, включая алименты и детскую по...</td>\n",
       "    </tr>\n",
       "    <tr>\n",
       "      <th>9222</th>\n",
       "      <td>Штрафы</td>\n",
       "    </tr>\n",
       "    <tr>\n",
       "      <th>9311</th>\n",
       "      <td>Налоговые платежи</td>\n",
       "    </tr>\n",
       "    <tr>\n",
       "      <th>9399</th>\n",
       "      <td>Правительственные услуги, нигде ранее не класс...</td>\n",
       "    </tr>\n",
       "    <tr>\n",
       "      <th>9402</th>\n",
       "      <td>Почтовые услуги — только правительство</td>\n",
       "    </tr>\n",
       "  </tbody>\n",
       "</table>\n",
       "<p>184 rows × 1 columns</p>\n",
       "</div>"
      ],
      "text/plain": [
       "                                            mcc_description\n",
       "mcc_code                                                   \n",
       "742                                     Ветеринарные услуги\n",
       "1711      Генеральные подрядчики по вентиляции, теплосна...\n",
       "1731                            Подрядчики по электричеству\n",
       "1799      Подрядчики, специализированная торговля — нигд...\n",
       "2741               Разнообразные издательства/печатное дело\n",
       "...                                                     ...\n",
       "9211      Судовые выплаты, включая алименты и детскую по...\n",
       "9222                                                 Штрафы\n",
       "9311                                      Налоговые платежи\n",
       "9399      Правительственные услуги, нигде ранее не класс...\n",
       "9402                 Почтовые услуги — только правительство\n",
       "\n",
       "[184 rows x 1 columns]"
      ]
     },
     "execution_count": 13,
     "metadata": {},
     "output_type": "execute_result"
    }
   ],
   "source": [
    "tr_mcc_codes"
   ]
  },
  {
   "cell_type": "code",
   "execution_count": 22,
   "id": "18f619fa-afbf-454f-afd8-ff4c984240bc",
   "metadata": {},
   "outputs": [],
   "source": [
    "tr_types = tr_types.rename(columns={'trans_description': 'mcc_description'})"
   ]
  },
  {
   "cell_type": "code",
   "execution_count": 25,
   "id": "72c7b8e0-6863-469e-8eb9-b372ef7cc534",
   "metadata": {},
   "outputs": [],
   "source": [
    "text = pd.concat((tr_mcc_codes, tr_types)).reset_index(drop=True)"
   ]
  },
  {
   "cell_type": "code",
   "execution_count": 31,
   "id": "91b971f5-e353-43aa-afbb-0a3e333e4f38",
   "metadata": {},
   "outputs": [],
   "source": [
    "# ' '.join(text['mcc_description'])"
   ]
  },
  {
   "cell_type": "code",
   "execution_count": null,
   "id": "83c45699-f33f-47b9-bcdb-983f5cc77ab2",
   "metadata": {},
   "outputs": [],
   "source": []
  }
 ],
 "metadata": {
  "kernelspec": {
   "display_name": "Python 3 (ipykernel)",
   "language": "python",
   "name": "python3"
  },
  "language_info": {
   "codemirror_mode": {
    "name": "ipython",
    "version": 3
   },
   "file_extension": ".py",
   "mimetype": "text/x-python",
   "name": "python",
   "nbconvert_exporter": "python",
   "pygments_lexer": "ipython3",
   "version": "3.10.4"
  }
 },
 "nbformat": 4,
 "nbformat_minor": 5
}
